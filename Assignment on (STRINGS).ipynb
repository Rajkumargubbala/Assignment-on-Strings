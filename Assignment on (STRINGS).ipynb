{
 "cells": [
  {
   "cell_type": "code",
   "execution_count": 2,
   "id": "d0ad829b",
   "metadata": {},
   "outputs": [
    {
     "data": {
      "text/plain": [
       "'innomatics'"
      ]
     },
     "execution_count": 2,
     "metadata": {},
     "output_type": "execute_result"
    }
   ],
   "source": [
    "#1. write a python program to convert a srting to lower case\n",
    "\n",
    "x=\"INNOMATICS\"\n",
    "x.lower()"
   ]
  },
  {
   "cell_type": "code",
   "execution_count": 3,
   "id": "64754a99",
   "metadata": {},
   "outputs": [
    {
     "name": "stdout",
     "output_type": "stream",
     "text": [
      "PYTHON\n",
      " pYtHoN\n"
     ]
    }
   ],
   "source": [
    "# 2.write a python program to convert only even index charecters to lower case.\n",
    "\n",
    "str1=input()\n",
    "x=\" \"\n",
    "for char in range(len(str1)):\n",
    "    if char%2==0:\n",
    "        x=x+str1[char].lower()\n",
    "    else:\n",
    "        x=x+str1[char].upper()\n",
    "print(x)"
   ]
  },
  {
   "cell_type": "code",
   "execution_count": 4,
   "id": "93ece676",
   "metadata": {},
   "outputs": [
    {
     "name": "stdout",
     "output_type": "stream",
     "text": [
      "PYTHON\n",
      " PyThOn\n"
     ]
    }
   ],
   "source": [
    "# 3.write a python program to convert only odd index charecters to lower case.\n",
    "\n",
    "str2=input()\n",
    "y=\" \"\n",
    "for char in range(len(str2)):\n",
    "    if char%2==0:\n",
    "        y=y+str2[char].upper()\n",
    "    else:\n",
    "        y=y+str2[char].lower()\n",
    "print(y)"
   ]
  },
  {
   "cell_type": "code",
   "execution_count": 5,
   "id": "2e51d092",
   "metadata": {},
   "outputs": [
    {
     "name": "stdout",
     "output_type": "stream",
     "text": [
      "python\n",
      " pYtHoN\n"
     ]
    }
   ],
   "source": [
    "# 4.write a program to convert only odd index charecter to upper case.\n",
    "\n",
    "str3=input()\n",
    "y=\" \"\n",
    "for char in range(len(str3)):\n",
    "    if char%2==0:\n",
    "        y=y+str3[char].lower()\n",
    "    else:\n",
    "        y=y+str3[char].upper()\n",
    "print(y)\n",
    "        "
   ]
  },
  {
   "cell_type": "code",
   "execution_count": 6,
   "id": "60b9be1c",
   "metadata": {},
   "outputs": [
    {
     "name": "stdout",
     "output_type": "stream",
     "text": [
      "python\n",
      " PyThOn\n"
     ]
    }
   ],
   "source": [
    "# 5.write a program to convert only even index charecter to upper case.\n",
    "\n",
    "str4=input()\n",
    "x=\" \"\n",
    "for char in range(len(str4)):\n",
    "    if char%2==0:\n",
    "        x=x+str4[char].upper()\n",
    "    else:\n",
    "        x=x+str4[char].lower()\n",
    "print(x)"
   ]
  },
  {
   "cell_type": "code",
   "execution_count": 7,
   "id": "b6c1da98",
   "metadata": {},
   "outputs": [
    {
     "name": "stdout",
     "output_type": "stream",
     "text": [
      "Enter your name RAJ KUMAR\n",
      "Enter your sex MALE\n",
      "Enter your age 22\n",
      "Enter your phone no 7997140064\n",
      "Enter your father_name VARA PRASAD\n",
      "Enter your mother_name SUJATHA\n"
     ]
    },
    {
     "data": {
      "text/plain": [
       "'my name is RAJ KUMAR my sex is MALE my age is 22 my phoneno is 7997140064 my father_name is VARA PRASAD my mother_name is SUJATHA'"
      ]
     },
     "execution_count": 7,
     "metadata": {},
     "output_type": "execute_result"
    }
   ],
   "source": [
    "# 6.write a python program to where you have dofferent variable which contains your name,sex,age,phone no,father name and  mother name .and by using this variable create a variable named bio-data where you will use all this variable\n",
    "\n",
    "name=input(\"Enter your name \")\n",
    "sex=input(\"Enter your sex \")\n",
    "age=input(\"Enter your age \")\n",
    "phoneno=input(\"Enter your phone no \")\n",
    "father_name=input(\"Enter your father_name \")\n",
    "mother_name=input(\"Enter your mother_name \")\n",
    "bio_data= \"my name is {} my sex is {} my age is {} my phoneno is {} my father_name is {} my mother_name is {}\"\n",
    "bio_data.format(name,sex,age,phoneno,father_name,mother_name)"
   ]
  },
  {
   "cell_type": "code",
   "execution_count": 8,
   "id": "e41f6df9",
   "metadata": {},
   "outputs": [
    {
     "name": "stdout",
     "output_type": "stream",
     "text": [
      "enter your list'@','a','r','@',1,2,'@'\n"
     ]
    },
    {
     "data": {
      "text/plain": [
       "3"
      ]
     },
     "execution_count": 8,
     "metadata": {},
     "output_type": "execute_result"
    }
   ],
   "source": [
    "# 7.write a program to count how many times\"@\" occured\n",
    "\n",
    "l=input(\"enter your list\")\n",
    "l.count(\"@\")"
   ]
  },
  {
   "cell_type": "code",
   "execution_count": 9,
   "id": "e68f77e2",
   "metadata": {},
   "outputs": [
    {
     "name": "stdout",
     "output_type": "stream",
     "text": [
      "name1 name2 name3\n"
     ]
    }
   ],
   "source": [
    "# 8.write a programm to get only names from the string \"name1.@gmail.com,name2.@gmail.com,name3.@gmail.com\" output-name1,name2,name3\n",
    "\n",
    "s1=\"name1.@gmail.com,name2.@gmail.com,name3.@gmail.com\" \n",
    "s1=s1.split( \".\")\n",
    "print(s1[0],s1[2][4:],s1[4][4:])"
   ]
  },
  {
   "cell_type": "code",
   "execution_count": 10,
   "id": "eb0a7c80",
   "metadata": {},
   "outputs": [
    {
     "name": "stdout",
     "output_type": "stream",
     "text": [
      "rajkumar\n"
     ]
    },
    {
     "data": {
      "text/plain": [
       "'kum'"
      ]
     },
     "execution_count": 10,
     "metadata": {},
     "output_type": "execute_result"
    }
   ],
   "source": [
    "# 9.Given a string of odd lenthg greater that 9,return a new string made of the middle three characters of a given\n",
    "\n",
    "name=input(\"\")\n",
    "b=int(len(name)/2)\n",
    "name[b-1:b+2]"
   ]
  },
  {
   "cell_type": "code",
   "execution_count": 13,
   "id": "267b6d64",
   "metadata": {},
   "outputs": [
    {
     "name": "stdout",
     "output_type": "stream",
     "text": [
      "raumar\n",
      "jk\n",
      "raujkmar\n"
     ]
    }
   ],
   "source": [
    "# 10.write a python program to insert a 2 string in middle of 1 string\n",
    "\n",
    "str1=input(\"\")\n",
    "str2=input(\"\")\n",
    "print(str1[:len(str1)//2:]+str2+str1[len(str1)//2:])"
   ]
  },
  {
   "cell_type": "code",
   "execution_count": 14,
   "id": "b6f1eeb0",
   "metadata": {},
   "outputs": [
    {
     "name": "stdout",
     "output_type": "stream",
     "text": [
      "abcdefghijklmnopqrstuvwxyz\n",
      "bcdfghjklmnpqrstvwxyz\n"
     ]
    }
   ],
   "source": [
    "# 11.write aprogram to remove vowels from the entire alphabets\n",
    "\n",
    "vowels=[\"a\",\"e\",\"i\",\"o\",\"u\",\"A\",\"E\",\"I\",\"O\",\"U\"]\n",
    "name=input()\n",
    "a=\"\"\n",
    "for k in name:\n",
    "    if k not in vowels:\n",
    "        a+=k\n",
    "print(a)"
   ]
  },
  {
   "cell_type": "code",
   "execution_count": null,
   "id": "f5c94e4d",
   "metadata": {},
   "outputs": [],
   "source": []
  }
 ],
 "metadata": {
  "kernelspec": {
   "display_name": "Python 3 (ipykernel)",
   "language": "python",
   "name": "python3"
  },
  "language_info": {
   "codemirror_mode": {
    "name": "ipython",
    "version": 3
   },
   "file_extension": ".py",
   "mimetype": "text/x-python",
   "name": "python",
   "nbconvert_exporter": "python",
   "pygments_lexer": "ipython3",
   "version": "3.9.7"
  }
 },
 "nbformat": 4,
 "nbformat_minor": 5
}
